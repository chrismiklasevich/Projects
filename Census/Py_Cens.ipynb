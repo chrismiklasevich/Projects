{
 "cells": [
  {
   "cell_type": "code",
   "execution_count": 8,
   "metadata": {},
   "outputs": [],
   "source": [
    "\"Testing which way to read in the data (Works and prints out every row)\"\n",
    "import csv\n",
    "Full_list=[] \"To get the data into a list instead of a class _csv.reader\"\n",
    "\n",
    "\"May use seperate arrays for getting the data into more convenient analysis\"\n",
    "GEOid=[]\n",
    "GEOid2=[]\n",
    "GEOarea=[]\n",
    "Code2012=[]\n",
    "Code2012_Meaning=[]\n",
    "Gender=[]\n",
    "\n",
    "\n",
    "with open('ASE_2016_00CSA01_with_ann.csv') as csvDataFile:\n",
    "    csvReader = csv.reader(csvDataFile)\n",
    "    for row in csvReader:\n",
    "        Full_list.append(row)"
   ]
  },
  {
   "cell_type": "code",
   "execution_count": 11,
   "metadata": {},
   "outputs": [
    {
     "name": "stdout",
     "output_type": "stream",
     "text": [
      "['Geographic identifier code', 'Id2', 'Geographic area name', '2012 NAICS code', 'Meaning of 2012 NAICS code', 'Gender code', 'Meaning of Gender code', 'Ethnicity code', 'Meaning of Ethnicity code', 'Race code', 'Meaning of Race code', 'Veteran code', 'Meaning of Veteran code', 'Year', 'Number of firms with paid employees ', 'Sales, receipts, or value of shipments of firms with paid employees ($1,000) ', 'Number of paid employees for pay period including March 12 ', 'Annual payroll ($1,000) ', 'Relative standard error of number of firms with paid employees (%) ', 'Relative standard error of sales, receipts, or value of shipments of firms with paid employees (%) ', 'Relative standard error of number of paid employees for pay period including March 12 (%) ', 'Relative standard error of annual payroll (%) ']\n"
     ]
    }
   ],
   "source": [
    "print(Full_list[1])"
   ]
  }
 ],
 "metadata": {
  "kernelspec": {
   "display_name": "Python 3",
   "language": "python",
   "name": "python3"
  },
  "language_info": {
   "codemirror_mode": {
    "name": "ipython",
    "version": 3
   },
   "file_extension": ".py",
   "mimetype": "text/x-python",
   "name": "python",
   "nbconvert_exporter": "python",
   "pygments_lexer": "ipython3",
   "version": "3.7.1"
  }
 },
 "nbformat": 4,
 "nbformat_minor": 2
}
