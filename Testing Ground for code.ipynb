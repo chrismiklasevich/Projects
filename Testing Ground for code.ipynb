{
 "cells": [
  {
   "cell_type": "code",
   "execution_count": 1,
   "metadata": {},
   "outputs": [
    {
     "data": {
      "text/plain": [
       "0     62\n",
       "1     47\n",
       "2     55\n",
       "3     74\n",
       "4     31\n",
       "5     77\n",
       "6     85\n",
       "7     63\n",
       "8     42\n",
       "9     32\n",
       "10    71\n",
       "11    57\n",
       "Name: Score1, dtype: int64"
      ]
     },
     "execution_count": 1,
     "metadata": {},
     "output_type": "execute_result"
    }
   ],
   "source": [
    "import pandas as pd\n",
    "import numpy as np\n",
    " \n",
    "#Create a DataFrame\n",
    "d = {\n",
    "    'Name':['Alisa','Bobby','Cathrine','Madonna','Rocky','Sebastian','Jaqluine',\n",
    "   'Rahul','David','Andrew','Ajay','Teresa'],\n",
    "   'Score1':[62,47,55,74,31,77,85,63,42,32,71,57],\n",
    "   'Score2':[89,87,67,55,47,72,76,79,44,92,99,69],\n",
    "   'Score3':[56,86,77,45,73,62,74,89,71,67,97,68]}\n",
    " \n",
    " \n",
    "#calling the particular column in dataframe\n",
    "#This is similar to the dataframe of R\n",
    "df = pd.DataFrame(d)\n",
    "df.loc[:,\"Score1\"]\n"
   ]
  },
  {
   "cell_type": "code",
   "execution_count": 2,
   "metadata": {},
   "outputs": [
    {
     "name": "stdout",
     "output_type": "stream",
     "text": [
      "Name        John\n",
      "Payment       10\n",
      "Duration      15\n"
     ]
    }
   ],
   "source": [
    "#printing out the column in a different way\n",
    "import pandas as pd\n",
    "\n",
    "df = pd.DataFrame({'Name': ['Will','John','John','John','Alex'],\n",
    "                   'Payment':  [15, 10, 10, 10, 15],\n",
    "                   'Duration':    [30, 15, 15, 15, 20]})\n",
    "print (df.iloc[1].to_string())"
   ]
  }
 ],
 "metadata": {
  "kernelspec": {
   "display_name": "Python 3",
   "language": "python",
   "name": "python3"
  },
  "language_info": {
   "codemirror_mode": {
    "name": "ipython",
    "version": 3
   },
   "file_extension": ".py",
   "mimetype": "text/x-python",
   "name": "python",
   "nbconvert_exporter": "python",
   "pygments_lexer": "ipython3",
   "version": "3.7.1"
  }
 },
 "nbformat": 4,
 "nbformat_minor": 2
}
