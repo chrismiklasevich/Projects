{
 "cells": [
  {
   "cell_type": "code",
   "execution_count": 1,
   "metadata": {},
   "outputs": [],
   "source": [
    "#NEED TO FIGURE OUT A WAY TO SAVE THE MEANS/ SUMS OF THE PRECIPITATION DATAFRAME AND ANALYZE IT"
   ]
  },
  {
   "cell_type": "code",
   "execution_count": 2,
   "metadata": {},
   "outputs": [],
   "source": [
    "import csv\n",
    "import datetime\n",
    "list11=[]\n",
    "list12=[]\n",
    "list13=[]\n",
    "list14=[]\n",
    "list15=[]\n",
    "list16=[]\n",
    "list17=[]\n",
    "list18=[]\n",
    "list19=[]\n",
    "with open('CP Rainfall 2011.csv') as csvDataFile:\n",
    "    csvReader = csv.reader(csvDataFile, delimiter=';')\n",
    "    for row in csvReader:\n",
    "        string= row[0]\n",
    "        if \"/\" not in string:\n",
    "            splitted = [\"Month\",\"Day\",\"Year\"]\n",
    "        else:\n",
    "            splitted = string.split(\"/\")\n",
    "        rows = row + splitted\n",
    "        list11.append(rows)\n",
    "with open('CP Rainfall 2012.csv') as csvDataFile:\n",
    "    csvReader = csv.reader(csvDataFile, delimiter=';')\n",
    "    for row in csvReader:\n",
    "        string= row[0]\n",
    "        if \"/\" not in string:\n",
    "            splitted = [\"Month\",\"Day\",\"Year\"]\n",
    "        else:\n",
    "            splitted = string.split(\"/\")\n",
    "        rows = row + splitted\n",
    "        list12.append(rows)\n",
    "with open('CP Rainfall 2013.csv') as csvDataFile:\n",
    "    csvReader = csv.reader(csvDataFile, delimiter=';')\n",
    "    for row in csvReader:\n",
    "        string= row[0]\n",
    "        if \"/\" not in string:\n",
    "            splitted = [\"Month\",\"Day\",\"Year\"]\n",
    "        else:\n",
    "            splitted = string.split(\"/\")\n",
    "        rows = row + splitted\n",
    "        list13.append(rows)\n",
    "with open('CP Rainfall 2014.csv') as csvDataFile:\n",
    "    csvReader = csv.reader(csvDataFile, delimiter=';')\n",
    "    for row in csvReader:\n",
    "        string= row[0]\n",
    "        if \"/\" not in string:\n",
    "            splitted = [\"Month\",\"Day\",\"Year\"]\n",
    "        else:\n",
    "            splitted = string.split(\"/\")\n",
    "        rows = row + splitted\n",
    "        list14.append(rows)\n",
    "with open('CP Rainfall 2015.csv') as csvDataFile:\n",
    "    csvReader = csv.reader(csvDataFile, delimiter=';')\n",
    "    for row in csvReader:\n",
    "        string= row[0]\n",
    "        if \"/\" not in string:\n",
    "            splitted = [\"Month\",\"Day\",\"Year\"]\n",
    "        else:\n",
    "            splitted = string.split(\"/\")\n",
    "        rows = row + splitted\n",
    "        list15.append(rows)\n",
    "with open('CP Rainfall 2016.csv') as csvDataFile:\n",
    "    csvReader = csv.reader(csvDataFile, delimiter=';')\n",
    "    for row in csvReader:\n",
    "        string= row[0]\n",
    "        if \"/\" not in string:\n",
    "            splitted = [\"Month\",\"Day\",\"Year\"]\n",
    "        else:\n",
    "            splitted = string.split(\"/\")\n",
    "        rows = row + splitted\n",
    "        list16.append(rows)\n",
    "with open('CP Rainfall 2017.csv') as csvDataFile:\n",
    "    csvReader = csv.reader(csvDataFile, delimiter=';')\n",
    "    for row in csvReader:\n",
    "        string= row[0]\n",
    "        if \"/\" not in string:\n",
    "            splitted = [\"Month\",\"Day\",\"Year\"]\n",
    "        else:\n",
    "            splitted = string.split(\"/\")\n",
    "        rows = row + splitted\n",
    "        list17.append(rows)\n",
    "with open('CP Rainfall 2018.csv') as csvDataFile:\n",
    "    csvReader = csv.reader(csvDataFile, delimiter=';')\n",
    "    for row in csvReader:\n",
    "        string= row[0]\n",
    "        if \"/\" not in string:\n",
    "            splitted = [\"Month\",\"Day\",\"Year\"]\n",
    "        else:\n",
    "            splitted = string.split(\"/\")\n",
    "        rows = row + splitted\n",
    "        list18.append(rows)\n",
    "with open('CP Rainfall 2019.csv') as csvDataFile:\n",
    "    csvReader = csv.reader(csvDataFile, delimiter=';')\n",
    "    for row in csvReader:\n",
    "        string= row[0]\n",
    "        if \"/\" not in string:\n",
    "            splitted = [\"Month\",\"Day\",\"Year\"]\n",
    "        else:\n",
    "            splitted = string.split(\"/\")\n",
    "        rows = row + splitted\n",
    "        list19.append(rows)\n",
    "\n",
    "count = 0\n",
    "iteration = len(list15)\n",
    "while count < iteration:\n",
    "    if (list15[count][2]) ==\"*\":\n",
    "        list15[count][2] = 0.000\n",
    "    count += 1\n",
    "\"Need to fix the variables for the columns\"\n",
    "fix18 = list12.pop(0)\n",
    "fix19 = list13.pop(0)\n",
    "fix18 = list14.pop(0)\n",
    "fix19 = list15.pop(0)\n",
    "fix16 = list16.pop(0)\n",
    "fix17 = list17.pop(0)\n",
    "fix18 = list18.pop(0)\n",
    "fix19 = list19.pop(0)"
   ]
  },
  {
   "cell_type": "code",
   "execution_count": 3,
   "metadata": {},
   "outputs": [
    {
     "name": "stdout",
     "output_type": "stream",
     "text": [
      "Done\n",
      "0.0\n"
     ]
    }
   ],
   "source": [
    "count = 0\n",
    "iteration = len(list15)\n",
    "while count < iteration:\n",
    "    if list15[count][2] == \"*\":\n",
    "        list15[count][2] = 0.000\n",
    "    count += 1\n",
    "print(\"Done\")\n",
    "print(list15[21004][2])"
   ]
  },
  {
   "cell_type": "code",
   "execution_count": 4,
   "metadata": {},
   "outputs": [
    {
     "data": {
      "text/plain": [
       "\"The 2015 year has '*' for some of the precipiation values need to replace it with 0.000\""
      ]
     },
     "execution_count": 4,
     "metadata": {},
     "output_type": "execute_result"
    }
   ],
   "source": [
    "#Hit Issue\n",
    "\"The 2015 year has '*' for some of the precipiation values need to replace it with 0.000\""
   ]
  },
  {
   "cell_type": "code",
   "execution_count": 5,
   "metadata": {},
   "outputs": [],
   "source": [
    "from pandas import DataFrame\n",
    "data=DataFrame.from_records(list15)\n",
    "data.columns = ['Date', 'Time', 'Precipitation', 'Month', 'Day', 'Year']\n",
    "import pandas as pd\n",
    "cols = ['Precipitation', 'Month', 'Day', 'Year']  # We don't want to convert the Final grade column.\n",
    "for x in cols:  # Iterate over chosen columns\n",
    "    data[x] = pd.to_numeric(data[x])\n",
    "for col in ['Month', 'Day', 'Year']:\n",
    "    data[col] = data[col].astype('category')"
   ]
  },
  {
   "cell_type": "code",
   "execution_count": 6,
   "metadata": {},
   "outputs": [
    {
     "data": {
      "text/plain": [
       "['Date', 'Time', 'Precipitation (inch)', 'Month', 'Day', 'Year']"
      ]
     },
     "execution_count": 6,
     "metadata": {},
     "output_type": "execute_result"
    }
   ],
   "source": [
    "#Combining the lists into a Total list\n",
    "Final_list=list11+list12+list13+list14+list15+list16+list17+list18+list19\n",
    "#len(Final_list)     #74076\n",
    "col = Final_list[0]\n",
    "col\n",
    "edit_list = Final_list[1:]\n",
    "col"
   ]
  },
  {
   "cell_type": "code",
   "execution_count": 7,
   "metadata": {
    "scrolled": true
   },
   "outputs": [],
   "source": [
    "from pandas import DataFrame\n",
    "data=DataFrame.from_records(edit_list)\n",
    "data.columns = ['Date', 'Time', 'Precipitation', 'Month', 'Day', 'Year']"
   ]
  },
  {
   "cell_type": "code",
   "execution_count": 8,
   "metadata": {
    "scrolled": true
   },
   "outputs": [
    {
     "name": "stdout",
     "output_type": "stream",
     "text": [
      "<class 'pandas.core.frame.DataFrame'>\n",
      "RangeIndex: 253252 entries, 0 to 253251\n",
      "Data columns (total 6 columns):\n",
      "Date             253252 non-null object\n",
      "Time             253252 non-null object\n",
      "Precipitation    253252 non-null float64\n",
      "Month            253252 non-null category\n",
      "Day              253252 non-null category\n",
      "Year             253252 non-null category\n",
      "dtypes: category(3), float64(1), object(2)\n",
      "memory usage: 6.5+ MB\n"
     ]
    }
   ],
   "source": [
    "import pandas as pd\n",
    "cols = ['Precipitation', 'Month', 'Day', 'Year']  # We don't want to convert the Final grade column.\n",
    "for x in cols:  # Iterate over chosen columns\n",
    "    data[x] = pd.to_numeric(data[x])\n",
    "for col in ['Month', 'Day', 'Year']:\n",
    "    data[col] = data[col].astype('category')\n",
    "    \n",
    "data.info()\n",
    "data['Cumu_Tot'] = data.Precipitation.cumsum()\n",
    "\n",
    "#Need to fix this: Will continue this next time"
   ]
  },
  {
   "cell_type": "code",
   "execution_count": null,
   "metadata": {
    "scrolled": false
   },
   "outputs": [],
   "source": [
    "#Get some statistics\n",
    "print(\"Mean: \",data.mean())\n",
    "print(\"Standard Deviation: \",data.std())\n",
    "data.groupby(['Month', 'Year'])['Precipitation'].mean()"
   ]
  },
  {
   "cell_type": "code",
   "execution_count": null,
   "metadata": {},
   "outputs": [],
   "source": []
  },
  {
   "cell_type": "code",
   "execution_count": null,
   "metadata": {},
   "outputs": [],
   "source": []
  }
 ],
 "metadata": {
  "kernelspec": {
   "display_name": "Python 3",
   "language": "python",
   "name": "python3"
  },
  "language_info": {
   "codemirror_mode": {
    "name": "ipython",
    "version": 3
   },
   "file_extension": ".py",
   "mimetype": "text/x-python",
   "name": "python",
   "nbconvert_exporter": "python",
   "pygments_lexer": "ipython3",
   "version": "3.7.1"
  }
 },
 "nbformat": 4,
 "nbformat_minor": 2
}
